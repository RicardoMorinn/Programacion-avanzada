{
  "nbformat": 4,
  "nbformat_minor": 0,
  "metadata": {
    "colab": {
      "provenance": [],
      "authorship_tag": "ABX9TyNzKyAJRVHVfKMkfIoA8CPb",
      "include_colab_link": true
    },
    "kernelspec": {
      "name": "python3",
      "display_name": "Python 3"
    },
    "language_info": {
      "name": "python"
    }
  },
  "cells": [
    {
      "cell_type": "markdown",
      "metadata": {
        "id": "view-in-github",
        "colab_type": "text"
      },
      "source": [
        "<a href=\"https://colab.research.google.com/github/RicardoMorinn/Programacion_EV2/blob/main/Ev3/Ev3.ipynb\" target=\"_parent\"><img src=\"https://colab.research.google.com/assets/colab-badge.svg\" alt=\"Open In Colab\"/></a>"
      ]
    },
    {
      "cell_type": "code",
      "execution_count": 2,
      "metadata": {
        "colab": {
          "base_uri": "https://localhost:8080/"
        },
        "id": "RrdQHfAiGn1O",
        "outputId": "695cd3b5-8a4b-40d8-faa3-2b1f850e6164"
      },
      "outputs": [
        {
          "output_type": "stream",
          "name": "stdout",
          "text": [
            "Ricardo tiene 18 años y es Hombre\n",
            "Ricardo tiene 18 años y es Hombre\n",
            "False\n"
          ]
        }
      ],
      "source": [
        "\n",
        "import pickle\n",
        "\n",
        "\n",
        "class Persona:\n",
        "\n",
        "    def __init__(self, nombre, edad, genero):\n",
        "        self.nombre = nombre\n",
        "        self.edad = edad\n",
        "        self.genero = genero\n",
        "\n",
        "\n",
        "    def __str__(self):\n",
        "        return f\"{self.nombre} tiene {self.edad} años y es {self.genero}\"\n",
        "\n",
        "\n",
        "persona = Persona(\"Ricardo\", 18, \"Hombre\")\n",
        "\n",
        "# Mostramos el objeto persona\n",
        "print(persona)\n",
        "\n",
        "# Abrimos un archivo binario en modo escritura\n",
        "archivo = open(\"persona.pickle\", \"wb\")\n",
        "\n",
        "# Serializamos el objeto usando el método dump de pickle\n",
        "pickle.dump(persona, archivo)\n",
        "\n",
        "# Cerramos el archivo\n",
        "archivo.close()\n",
        "\n",
        "# Abrimos el mismo archivo en modo lectura\n",
        "archivo = open(\"persona.pickle\", \"rb\")\n",
        "\n",
        "# Deserializamos el objeto usando el método load de pickle\n",
        "persona_recuperada = pickle.load(archivo)\n",
        "\n",
        "# Cerramos el archivo\n",
        "archivo.close()\n",
        "\n",
        "# Mostramos el objeto recuperado\n",
        "print(persona_recuperada)\n",
        "\n",
        "# Comprobamos que es igual al objeto original\n",
        "print(persona_recuperada == persona)\n"
      ]
    }
  ]
}