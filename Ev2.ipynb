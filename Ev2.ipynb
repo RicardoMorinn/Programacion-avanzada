{
  "nbformat": 4,
  "nbformat_minor": 0,
  "metadata": {
    "colab": {
      "provenance": [],
      "authorship_tag": "ABX9TyPESkFy9Ym/eQwTybCm+3+k",
      "include_colab_link": true
    },
    "kernelspec": {
      "name": "python3",
      "display_name": "Python 3"
    },
    "language_info": {
      "name": "python"
    }
  },
  "cells": [
    {
      "cell_type": "markdown",
      "metadata": {
        "id": "view-in-github",
        "colab_type": "text"
      },
      "source": [
        "<a href=\"https://colab.research.google.com/github/RicardoMorinn/Programacion-avanzada/blob/main/Ev2.ipynb\" target=\"_parent\"><img src=\"https://colab.research.google.com/assets/colab-badge.svg\" alt=\"Open In Colab\"/></a>"
      ]
    },
    {
      "cell_type": "markdown",
      "source": [],
      "metadata": {
        "id": "g06f9FTajsZ7"
      }
    },
    {
      "cell_type": "markdown",
      "source": [
        "La clase Persona tiene un método constructor __init__ que se llama cuando se crea una nueva instancia de la clase. Este método inicializa los atributos nombre, apellido, edad y altura de la persona con los valores proporcionados al crear la instancia.\n",
        "\n",
        "La clase también tiene dos propiedades: nombre_completo y edad_en_meses. La propiedad nombre_completo devuelve el nombre y el apellido de la persona, separados por un espacio. La propiedad edad_en_meses devuelve la edad de la persona multiplicada por 12, es decir, el número de meses que ha vivido.\n",
        "\n",
        "Además, la clase tiene dos métodos: saludar y crecer. El método saludar imprime un mensaje de saludo con el nombre completo y la edad de la persona. El método crecer recibe un parámetro años que indica cuántos años ha crecido la persona. Este método incrementa la edad y la altura de la persona según el parámetro, y también imprime un mensaje indicando cuánto ha crecido y cuánto mide ahora.\n",
        "\n",
        "Creamos dos instancias de la clase Persona llamadas p1 y p2 con los siguientes valores:\n",
        "Nombre \tApellido \tEdad \tAltura\n",
        "Ana \tGarcía \t25 \t1.65\n",
        "Luis \tPérez \t30 \t1.75\n",
        "\n",
        "Luego, mostramos algunos de los atributos y propiedades de las instancias p1 y p2, como el nombre, el apellido, la edad, la altura, el nombre completo y la edad en meses.\n",
        "\n",
        "Finalmente, llamamos a los métodos saludar y crecer de las instancias p1 y p2. La instancia p1 saluda con su nombre completo y su edad, y la instancia p2 crece 5 años, lo que aumenta su edad a 35 y su altura a 1.85."
      ],
      "metadata": {
        "id": "_-of_F0MRBdA"
      }
    },
    {
      "cell_type": "code",
      "execution_count": null,
      "metadata": {
        "id": "MFqsRbk6jrHs"
      },
      "outputs": [],
      "source": []
    },
    {
      "cell_type": "code",
      "source": [
        "class Persona:\n",
        "    def __init__(self, nombre, apellido, edad, altura):\n",
        "        self.nombre = nombre\n",
        "        self.apellido = apellido\n",
        "        self.edad = edad\n",
        "        self.altura = altura\n",
        "\n",
        "    @property\n",
        "    def nombre_completo(self):\n",
        "        return self.nombre + \" \" + self.apellido\n",
        "\n",
        "    @property\n",
        "    def edad_en_meses(self):\n",
        "        return self.edad * 12\n",
        "\n",
        "    def saludar(self):\n",
        "        print(f\"Hola, me llamo {self.nombre_completo} y tengo {self.edad} años.\")\n",
        "\n",
        "    def crecer(self, años):\n",
        "        self.edad += años\n",
        "        self.altura += años * 0.02\n",
        "        print(f\"He crecido {años} años y ahora mido {self.altura:.2f} metros.\")\n",
        "\n",
        "p1 = Persona(\"Ana\", \"García\", 25, 1.65)\n",
        "p2 = Persona(\"Luis\", \"Pérez\", 30, 1.75)\n",
        "\n",
        "print(f\"El nombre de la primera persona es {p1.nombre}.\")\n",
        "print(f\"El apellido de segunda persona es {p2.apellido}.\")\n",
        "print(f\"La edad de la primera persona es {p1.edad}.\")\n",
        "print(f\"La altura de segunda persona es {p2.altura}.\")\n",
        "\n",
        "print(f\"El nombre completo de la primera persona es {p1.nombre_completo}.\")\n",
        "print(f\"La edad en meses de la segunda persona es {p2.edad_en_meses}.\")\n",
        "\n",
        "p1.saludar()\n",
        "p2.crecer(5)"
      ],
      "metadata": {
        "colab": {
          "base_uri": "https://localhost:8080/"
        },
        "id": "EF3vl1OBQ9Vu",
        "outputId": "d5c05687-69f2-49c9-f984-f31e8984ed08"
      },
      "execution_count": null,
      "outputs": [
        {
          "output_type": "stream",
          "name": "stdout",
          "text": [
            "El nombre de la primera persona es Ana.\n",
            "El apellido de segunda persona es Pérez.\n",
            "La edad de la primera persona es 25.\n",
            "La altura de segunda persona es 1.75.\n",
            "El nombre completo de la primera persona es Ana García.\n",
            "La edad en meses de la segunda persona es 360.\n",
            "Hola, me llamo Ana García y tengo 25 años.\n",
            "He crecido 5 años y ahora mido 1.85 metros.\n"
          ]
        }
      ]
    }
  ]
}